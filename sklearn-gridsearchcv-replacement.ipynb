{
 "cells": [
  {
   "cell_type": "code",
   "execution_count": null,
   "metadata": {},
   "outputs": [],
   "source": [
    "%matplotlib inline"
   ]
  },
  {
   "cell_type": "markdown",
   "metadata": {},
   "source": [
    "\n",
    "# Scikit-learn hyperparameter search wrapper\n",
    "\n",
    "Iaroslav Shcherbatyi, Tim Head and Gilles Louppe. June 2017.\n",
    "Reformatted by Holger Nahrstaedt 2020\n",
    "\n",
    ".. currentmodule:: skopt\n",
    "\n",
    "## Introduction\n",
    "\n",
    "This example assumes basic familiarity with\n",
    "`scikit-learn <http://scikit-learn.org/stable/index.html>`_.\n",
    "\n",
    "Search for parameters of machine learning models that result in best\n",
    "cross-validation performance is necessary in almost all practical\n",
    "cases to get a model with best generalization estimate. A standard\n",
    "approach in scikit-learn is using :obj:`sklearn.model_selection.GridSearchCV` class, which takes\n",
    "a set of values for every parameter to try, and simply enumerates all\n",
    "combinations of parameter values. The complexity of such search grows\n",
    "exponentially with the addition of new parameters. A more scalable\n",
    "approach is using :obj:`sklearn.model_selection.RandomizedSearchCV`, which however does not take\n",
    "advantage of the structure of a search space.\n",
    "\n",
    "Scikit-optimize provides a drop-in replacement for :obj:`sklearn.model_selection.GridSearchCV`,\n",
    "which utilizes Bayesian Optimization where a predictive model referred\n",
    "to as \"surrogate\" is used to model the search space and utilized to\n",
    "arrive at good parameter values combination as soon as possible.\n",
    "\n",
    "Note: for a manual hyperparameter optimization example, see\n",
    "\"Hyperparameter Optimization\" notebook.\n"
   ]
  },
  {
   "cell_type": "code",
   "execution_count": null,
   "metadata": {},
   "outputs": [],
   "source": [
    "print(__doc__)\n",
    "import numpy as np\n",
    "np.random.seed(123)\n",
    "import matplotlib.pyplot as plt"
   ]
  },
  {
   "cell_type": "markdown",
   "metadata": {},
   "source": [
    "## Minimal example\n",
    "\n",
    "A minimal example of optimizing hyperparameters of SVC (Support Vector machine Classifier) is given below.\n",
    "\n"
   ]
  },
  {
   "cell_type": "code",
   "execution_count": null,
   "metadata": {},
   "outputs": [],
   "source": [
    "from skopt import BayesSearchCV\n",
    "from sklearn.datasets import load_digits\n",
    "from sklearn.svm import SVC\n",
    "from sklearn.model_selection import train_test_split\n",
    "\n",
    "X, y = load_digits(n_class=10, return_X_y=True)\n",
    "X_train, X_test, y_train, y_test = train_test_split(X, y, train_size=0.75, test_size=.25, random_state=0)\n",
    "\n",
    "# log-uniform: understand as search over p = exp(x) by varying x\n",
    "opt = BayesSearchCV(\n",
    "    SVC(),\n",
    "    {\n",
    "        'C': (1e-6, 1e+6, 'log-uniform'),\n",
    "        'gamma': (1e-6, 1e+1, 'log-uniform'),\n",
    "        'degree': (1, 8),  # integer valued parameter\n",
    "        'kernel': ['linear', 'poly', 'rbf'],  # categorical parameter\n",
    "    },\n",
    "    n_iter=32,\n",
    "    cv=3\n",
    ")\n",
    "\n",
    "opt.fit(X_train, y_train)\n",
    "\n",
    "print(\"val. score: %s\" % opt.best_score_)\n",
    "print(\"test score: %s\" % opt.score(X_test, y_test))"
   ]
  },
  {
   "cell_type": "markdown",
   "metadata": {},
   "source": [
    "## Advanced example\n",
    "\n",
    "In practice, one wants to enumerate over multiple predictive model classes,\n",
    "with different search spaces and number of evaluations per class. An\n",
    "example of such search over parameters of Linear SVM, Kernel SVM, and\n",
    "decision trees is given below.\n",
    "\n"
   ]
  },
  {
   "cell_type": "code",
   "execution_count": null,
   "metadata": {},
   "outputs": [],
   "source": [
    "from skopt import BayesSearchCV\n",
    "from skopt.space import Real, Categorical, Integer\n",
    "from skopt.plots import plot_objective, plot_histogram\n",
    "\n",
    "from sklearn.datasets import load_digits\n",
    "from sklearn.svm import LinearSVC, SVC\n",
    "from sklearn.pipeline import Pipeline\n",
    "from sklearn.model_selection import train_test_split\n",
    "\n",
    "X, y = load_digits(n_class=10, return_X_y=True)\n",
    "X_train, X_test, y_train, y_test = train_test_split(X, y, random_state=0)\n",
    "\n",
    "# pipeline class is used as estimator to enable\n",
    "# search over different model types\n",
    "pipe = Pipeline([\n",
    "    ('model', SVC())\n",
    "])\n",
    "\n",
    "# single categorical value of 'model' parameter is\n",
    "# sets the model class\n",
    "# We will get ConvergenceWarnings because the problem is not well-conditioned.\n",
    "# But that's fine, this is just an example.\n",
    "linsvc_search = {\n",
    "    'model': [LinearSVC(max_iter=1000)],\n",
    "    'model__C': (1e-6, 1e+6, 'log-uniform'),\n",
    "}\n",
    "\n",
    "# explicit dimension classes can be specified like this\n",
    "svc_search = {\n",
    "    'model': Categorical([SVC()]),\n",
    "    'model__C': Real(1e-6, 1e+6, prior='log-uniform'),\n",
    "    'model__gamma': Real(1e-6, 1e+1, prior='log-uniform'),\n",
    "    'model__degree': Integer(1,8),\n",
    "    'model__kernel': Categorical(['linear', 'poly', 'rbf']),\n",
    "}\n",
    "\n",
    "opt = BayesSearchCV(\n",
    "    pipe,\n",
    "    # (parameter space, # of evaluations)\n",
    "    [(svc_search, 40), (linsvc_search, 16)],\n",
    "    cv=3\n",
    ")\n",
    "\n",
    "opt.fit(X_train, y_train)\n",
    "\n",
    "print(\"val. score: %s\" % opt.best_score_)\n",
    "print(\"test score: %s\" % opt.score(X_test, y_test))\n",
    "print(\"best params: %s\" % str(opt.best_params_))"
   ]
  },
  {
   "cell_type": "markdown",
   "metadata": {},
   "source": [
    "Partial Dependence plot of the objective function for SVC\n",
    "\n",
    "\n"
   ]
  },
  {
   "cell_type": "code",
   "execution_count": null,
   "metadata": {},
   "outputs": [],
   "source": [
    "_ = plot_objective(opt.optimizer_results_[0],\n",
    "                   dimensions=[\"C\", \"degree\", \"gamma\", \"kernel\"],\n",
    "                   n_minimum_search=int(1e8))\n",
    "plt.show()"
   ]
  },
  {
   "cell_type": "markdown",
   "metadata": {},
   "source": [
    "Plot of the histogram for LinearSVC\n",
    "\n",
    "\n"
   ]
  },
  {
   "cell_type": "code",
   "execution_count": null,
   "metadata": {},
   "outputs": [],
   "source": [
    "_ = plot_histogram(opt.optimizer_results_[1], 1)\n",
    "plt.show()"
   ]
  },
  {
   "cell_type": "markdown",
   "metadata": {},
   "source": [
    "## Progress monitoring and control using `callback` argument of `fit` method\n",
    "\n",
    "It is possible to monitor the progress of :class:`BayesSearchCV` with an event\n",
    "handler that is called on every step of subspace exploration. For single job\n",
    "mode, this is called on every evaluation of model configuration, and for\n",
    "parallel mode, this is called when n_jobs model configurations are evaluated\n",
    "in parallel.\n",
    "\n",
    "Additionally, exploration can be stopped if the callback returns `True`.\n",
    "This can be used to stop the exploration early, for instance when the\n",
    "accuracy that you get is sufficiently high.\n",
    "\n",
    "An example usage is shown below.\n",
    "\n"
   ]
  },
  {
   "cell_type": "code",
   "execution_count": null,
   "metadata": {},
   "outputs": [],
   "source": [
    "from skopt import BayesSearchCV\n",
    "\n",
    "from sklearn.datasets import load_iris\n",
    "from sklearn.svm import SVC\n",
    "\n",
    "X, y = load_iris(return_X_y=True)\n",
    "\n",
    "searchcv = BayesSearchCV(\n",
    "    SVC(gamma='scale'),\n",
    "    search_spaces={'C': (0.01, 100.0, 'log-uniform')},\n",
    "    n_iter=10,\n",
    "    cv=3\n",
    ")\n",
    "\n",
    "# callback handler\n",
    "def on_step(optim_result):\n",
    "    score = searchcv.best_score_\n",
    "    print(\"best score: %s\" % score)\n",
    "    if score >= 0.98:\n",
    "        print('Interrupting!')\n",
    "        return True\n",
    "\n",
    "\n",
    "searchcv.fit(X, y, callback=on_step)"
   ]
  },
  {
   "cell_type": "markdown",
   "metadata": {},
   "source": [
    "## Counting total iterations that will be used to explore all subspaces\n",
    "\n",
    "Subspaces in previous examples can further increase in complexity if you add\n",
    "new model subspaces or dimensions for feature extraction pipelines. For\n",
    "monitoring of progress, you would like to know the total number of\n",
    "iterations it will take to explore all subspaces. This can be\n",
    "calculated with `total_iterations` property, as in the code below.\n",
    "\n"
   ]
  },
  {
   "cell_type": "code",
   "execution_count": null,
   "metadata": {},
   "outputs": [],
   "source": [
    "from skopt import BayesSearchCV\n",
    "\n",
    "from sklearn.datasets import load_iris\n",
    "from sklearn.svm import SVC\n",
    "\n",
    "X, y = load_iris(True)\n",
    "\n",
    "searchcv = BayesSearchCV(\n",
    "    SVC(),\n",
    "    search_spaces=[\n",
    "        ({'C': (0.1, 1.0)}, 19),  # 19 iterations for this subspace\n",
    "        {'gamma':(0.1, 1.0)}\n",
    "    ],\n",
    "    n_iter=23\n",
    ")\n",
    "\n",
    "print(searchcv.total_iterations)"
   ]
  }
 ],
 "metadata": {
  "hide_input": false,
  "kernelspec": {
   "display_name": "Python 3 (ipykernel)",
   "language": "python",
   "name": "python3"
  },
  "language_info": {
   "codemirror_mode": {
    "name": "ipython",
    "version": 3
   },
   "file_extension": ".py",
   "mimetype": "text/x-python",
   "name": "python",
   "nbconvert_exporter": "python",
   "pygments_lexer": "ipython3",
   "version": "3.9.12"
  }
 },
 "nbformat": 4,
 "nbformat_minor": 1
}
